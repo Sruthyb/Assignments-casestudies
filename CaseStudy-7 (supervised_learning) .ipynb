{
 "cells": [
  {
   "cell_type": "markdown",
   "id": "d9ec4d45",
   "metadata": {},
   "source": [
    "# Case Study on Supervised Learning \n",
    "\n",
    "Do the following in the iris dataset.\n",
    "1. Read the dataset to the python environment.\n",
    "2. Do necessary pre-processing steps.\n",
    "3. Find out which classification model gives the best result to predict iris species.(also do random forest algorithm)\n"
   ]
  },
  {
   "cell_type": "code",
   "execution_count": 1,
   "id": "132bd6af",
   "metadata": {},
   "outputs": [],
   "source": [
    "# Ignoring warnings\n",
    "import warnings\n",
    "warnings.filterwarnings(\"ignore\")\n",
    "\n",
    "# Importing packages\n",
    "import numpy as np\n",
    "import pandas as pd\n",
    "import seaborn as sns\n",
    "import matplotlib.pyplot as plt"
   ]
  },
  {
   "cell_type": "code",
   "execution_count": 2,
   "id": "19d6d5b6",
   "metadata": {},
   "outputs": [],
   "source": [
    "ir = pd.read_excel('iris (1).xls')"
   ]
  },
  {
   "cell_type": "markdown",
   "id": "695e2eeb",
   "metadata": {},
   "source": [
    "## *1. Reading the dataset to the python environment.*"
   ]
  },
  {
   "cell_type": "code",
   "execution_count": 3,
   "id": "96535b65",
   "metadata": {},
   "outputs": [
    {
     "data": {
      "text/html": [
       "<div>\n",
       "<style scoped>\n",
       "    .dataframe tbody tr th:only-of-type {\n",
       "        vertical-align: middle;\n",
       "    }\n",
       "\n",
       "    .dataframe tbody tr th {\n",
       "        vertical-align: top;\n",
       "    }\n",
       "\n",
       "    .dataframe thead th {\n",
       "        text-align: right;\n",
       "    }\n",
       "</style>\n",
       "<table border=\"1\" class=\"dataframe\">\n",
       "  <thead>\n",
       "    <tr style=\"text-align: right;\">\n",
       "      <th></th>\n",
       "      <th>SL</th>\n",
       "      <th>SW</th>\n",
       "      <th>PL</th>\n",
       "      <th>PW</th>\n",
       "      <th>Classification</th>\n",
       "    </tr>\n",
       "  </thead>\n",
       "  <tbody>\n",
       "    <tr>\n",
       "      <th>0</th>\n",
       "      <td>5.1</td>\n",
       "      <td>3.5</td>\n",
       "      <td>1.4</td>\n",
       "      <td>0.2</td>\n",
       "      <td>Iris-setosa</td>\n",
       "    </tr>\n",
       "    <tr>\n",
       "      <th>1</th>\n",
       "      <td>4.9</td>\n",
       "      <td>3.0</td>\n",
       "      <td>1.4</td>\n",
       "      <td>0.2</td>\n",
       "      <td>Iris-setosa</td>\n",
       "    </tr>\n",
       "    <tr>\n",
       "      <th>2</th>\n",
       "      <td>NaN</td>\n",
       "      <td>3.2</td>\n",
       "      <td>1.3</td>\n",
       "      <td>0.2</td>\n",
       "      <td>Iris-setosa</td>\n",
       "    </tr>\n",
       "    <tr>\n",
       "      <th>3</th>\n",
       "      <td>4.6</td>\n",
       "      <td>3.1</td>\n",
       "      <td>1.5</td>\n",
       "      <td>0.2</td>\n",
       "      <td>Iris-setosa</td>\n",
       "    </tr>\n",
       "    <tr>\n",
       "      <th>4</th>\n",
       "      <td>5.0</td>\n",
       "      <td>3.6</td>\n",
       "      <td>1.4</td>\n",
       "      <td>0.2</td>\n",
       "      <td>Iris-setosa</td>\n",
       "    </tr>\n",
       "  </tbody>\n",
       "</table>\n",
       "</div>"
      ],
      "text/plain": [
       "    SL   SW   PL   PW Classification\n",
       "0  5.1  3.5  1.4  0.2    Iris-setosa\n",
       "1  4.9  3.0  1.4  0.2    Iris-setosa\n",
       "2  NaN  3.2  1.3  0.2    Iris-setosa\n",
       "3  4.6  3.1  1.5  0.2    Iris-setosa\n",
       "4  5.0  3.6  1.4  0.2    Iris-setosa"
      ]
     },
     "execution_count": 3,
     "metadata": {},
     "output_type": "execute_result"
    }
   ],
   "source": [
    "ir.head()   #displaying dataframe"
   ]
  },
  {
   "cell_type": "code",
   "execution_count": 4,
   "id": "918ae439",
   "metadata": {},
   "outputs": [
    {
     "data": {
      "text/html": [
       "<div>\n",
       "<style scoped>\n",
       "    .dataframe tbody tr th:only-of-type {\n",
       "        vertical-align: middle;\n",
       "    }\n",
       "\n",
       "    .dataframe tbody tr th {\n",
       "        vertical-align: top;\n",
       "    }\n",
       "\n",
       "    .dataframe thead th {\n",
       "        text-align: right;\n",
       "    }\n",
       "</style>\n",
       "<table border=\"1\" class=\"dataframe\">\n",
       "  <thead>\n",
       "    <tr style=\"text-align: right;\">\n",
       "      <th></th>\n",
       "      <th>SL</th>\n",
       "      <th>SW</th>\n",
       "      <th>PL</th>\n",
       "      <th>PW</th>\n",
       "      <th>Classification</th>\n",
       "    </tr>\n",
       "  </thead>\n",
       "  <tbody>\n",
       "    <tr>\n",
       "      <th>145</th>\n",
       "      <td>6.7</td>\n",
       "      <td>3.0</td>\n",
       "      <td>5.2</td>\n",
       "      <td>2.3</td>\n",
       "      <td>Iris-virginica</td>\n",
       "    </tr>\n",
       "    <tr>\n",
       "      <th>146</th>\n",
       "      <td>6.3</td>\n",
       "      <td>2.5</td>\n",
       "      <td>5.0</td>\n",
       "      <td>1.9</td>\n",
       "      <td>Iris-virginica</td>\n",
       "    </tr>\n",
       "    <tr>\n",
       "      <th>147</th>\n",
       "      <td>6.5</td>\n",
       "      <td>3.0</td>\n",
       "      <td>NaN</td>\n",
       "      <td>2.0</td>\n",
       "      <td>Iris-virginica</td>\n",
       "    </tr>\n",
       "    <tr>\n",
       "      <th>148</th>\n",
       "      <td>6.2</td>\n",
       "      <td>3.4</td>\n",
       "      <td>5.4</td>\n",
       "      <td>2.3</td>\n",
       "      <td>Iris-virginica</td>\n",
       "    </tr>\n",
       "    <tr>\n",
       "      <th>149</th>\n",
       "      <td>5.9</td>\n",
       "      <td>3.0</td>\n",
       "      <td>5.1</td>\n",
       "      <td>1.8</td>\n",
       "      <td>Iris-virginica</td>\n",
       "    </tr>\n",
       "  </tbody>\n",
       "</table>\n",
       "</div>"
      ],
      "text/plain": [
       "      SL   SW   PL   PW  Classification\n",
       "145  6.7  3.0  5.2  2.3  Iris-virginica\n",
       "146  6.3  2.5  5.0  1.9  Iris-virginica\n",
       "147  6.5  3.0  NaN  2.0  Iris-virginica\n",
       "148  6.2  3.4  5.4  2.3  Iris-virginica\n",
       "149  5.9  3.0  5.1  1.8  Iris-virginica"
      ]
     },
     "execution_count": 4,
     "metadata": {},
     "output_type": "execute_result"
    }
   ],
   "source": [
    "ir.tail()"
   ]
  },
  {
   "cell_type": "code",
   "execution_count": 5,
   "id": "92410e4e",
   "metadata": {},
   "outputs": [
    {
     "name": "stdout",
     "output_type": "stream",
     "text": [
      "<class 'pandas.core.frame.DataFrame'>\n",
      "RangeIndex: 150 entries, 0 to 149\n",
      "Data columns (total 5 columns):\n",
      " #   Column          Non-Null Count  Dtype  \n",
      "---  ------          --------------  -----  \n",
      " 0   SL              143 non-null    float64\n",
      " 1   SW              144 non-null    float64\n",
      " 2   PL              144 non-null    float64\n",
      " 3   PW              150 non-null    float64\n",
      " 4   Classification  150 non-null    object \n",
      "dtypes: float64(4), object(1)\n",
      "memory usage: 6.0+ KB\n"
     ]
    }
   ],
   "source": [
    "ir.info()                                  # extracting basic details from dataset."
   ]
  },
  {
   "cell_type": "markdown",
   "id": "bdea4ad6",
   "metadata": {},
   "source": [
    "### Remarks:\n",
    "    \n",
    "    The given iris dataset contains following informations,\n",
    "    \n",
    "    ⨀ 150 samples of three different classification(iris-setosa, iris-virginica, iris-versicolor) of iris flower 50 each.\n",
    "    \n",
    "    ⨀ properties given for each classification: sepal length(SL), petal length(PL), sepal width(SW), petal width(PW).\n",
    "        \n",
    "    ⨀ datatypes : float64(4), object(1)\n",
    "        \n",
    "    ⨀ 19 missing values in total.    "
   ]
  },
  {
   "cell_type": "markdown",
   "id": "d3e8b739",
   "metadata": {},
   "source": [
    "## *2. Do necessary pre-processing steps.*"
   ]
  },
  {
   "cell_type": "code",
   "execution_count": 6,
   "id": "28de19f6",
   "metadata": {},
   "outputs": [
    {
     "data": {
      "text/plain": [
       "(150, 5)"
      ]
     },
     "execution_count": 6,
     "metadata": {},
     "output_type": "execute_result"
    }
   ],
   "source": [
    "ir.shape                                   # displaying rows and columns."
   ]
  },
  {
   "cell_type": "code",
   "execution_count": 7,
   "id": "4d1a8ae3",
   "metadata": {},
   "outputs": [
    {
     "data": {
      "text/plain": [
       "SL                7\n",
       "SW                6\n",
       "PL                6\n",
       "PW                0\n",
       "Classification    0\n",
       "dtype: int64"
      ]
     },
     "execution_count": 7,
     "metadata": {},
     "output_type": "execute_result"
    }
   ],
   "source": [
    "# checking missing values\n",
    "ir.isna().sum()"
   ]
  },
  {
   "cell_type": "code",
   "execution_count": 8,
   "id": "5c1c6b8d",
   "metadata": {},
   "outputs": [
    {
     "data": {
      "text/plain": [
       "SL                float64\n",
       "SW                float64\n",
       "PL                float64\n",
       "PW                float64\n",
       "Classification     object\n",
       "dtype: object"
      ]
     },
     "execution_count": 8,
     "metadata": {},
     "output_type": "execute_result"
    }
   ],
   "source": [
    "# Checking datatypes\n",
    "ir.dtypes"
   ]
  },
  {
   "cell_type": "markdown",
   "id": "84d93108",
   "metadata": {},
   "source": [
    "### Remarks: \n",
    "\n",
    "   ⨀ Dataset contains 150 rows and 5 columns, where column 'classification' is our target containing three species.\n",
    "\n",
    "   ⨀ There are null values in 'SL', 'SW', 'PL' float datatypes."
   ]
  },
  {
   "cell_type": "code",
   "execution_count": 9,
   "id": "479446c1",
   "metadata": {
    "scrolled": true
   },
   "outputs": [
    {
     "data": {
      "image/png": "[encoded data removed]",
      "text/plain": [
       "<Figure size 720x360 with 1 Axes>"
      ]
     },
     "metadata": {
      "needs_background": "light"
     },
     "output_type": "display_data"
    }
   ],
   "source": [
    "# Checking skewness of columns SL, PL, SW by plotting distplot\n",
    "fig, ax = plt.subplots(figsize=(10,5))        \n",
    "sns.distplot(ir.SL);"
   ]
  },
  {
   "cell_type": "code",
   "execution_count": 10,
   "id": "b19acde1",
   "metadata": {},
   "outputs": [
    {
     "data": {
      "image/png": "[encoded data removed]",
      "text/plain": [
       "<Figure size 720x360 with 1 Axes>"
      ]
     },
     "metadata": {
      "needs_background": "light"
     },
     "output_type": "display_data"
    }
   ],
   "source": [
    "fig, ax = plt.subplots(figsize=(10,5))        \n",
    "sns.distplot(ir.SW);"
   ]
  },
  {
   "cell_type": "code",
   "execution_count": 11,
   "id": "64275546",
   "metadata": {},
   "outputs": [
    {
     "data": {
      "image/png": "[encoded data removed]",
      "text/plain": [
       "<Figure size 720x360 with 1 Axes>"
      ]
     },
     "metadata": {
      "needs_background": "light"
     },
     "output_type": "display_data"
    }
   ],
   "source": [
    "fig, ax = plt.subplots(figsize=(10,5))        \n",
    "sns.distplot(ir.PL);"
   ]
  },
  {
   "cell_type": "markdown",
   "id": "e28d67c2",
   "metadata": {},
   "source": [
    "### Remarks:\n",
    "\n",
    "⨀ From the distribution plots, we can see that the columns, 'SW' is normally distributed and 'SL' is almost normally distributed. So, we can fill their missing values using mean.\n",
    "\n",
    "⨀ From histogram of PL, we can use median to fill missing values.\n",
    "\n",
    "We need to fill the missing values in these columns. The column classification contain three classes of species, so we need to fill it seperately."
   ]
  },
  {
   "cell_type": "code",
   "execution_count": 12,
   "id": "a7af5820",
   "metadata": {},
   "outputs": [
    {
     "data": {
      "text/html": [
       "<div>\n",
       "<style scoped>\n",
       "    .dataframe tbody tr th:only-of-type {\n",
       "        vertical-align: middle;\n",
       "    }\n",
       "\n",
       "    .dataframe tbody tr th {\n",
       "        vertical-align: top;\n",
       "    }\n",
       "\n",
       "    .dataframe thead th {\n",
       "        text-align: right;\n",
       "    }\n",
       "</style>\n",
       "<table border=\"1\" class=\"dataframe\">\n",
       "  <thead>\n",
       "    <tr style=\"text-align: right;\">\n",
       "      <th></th>\n",
       "      <th>SL</th>\n",
       "      <th>SW</th>\n",
       "    </tr>\n",
       "    <tr>\n",
       "      <th>Classification</th>\n",
       "      <th></th>\n",
       "      <th></th>\n",
       "    </tr>\n",
       "  </thead>\n",
       "  <tbody>\n",
       "    <tr>\n",
       "      <th>Iris-setosa</th>\n",
       "      <td>5.008511</td>\n",
       "      <td>3.408511</td>\n",
       "    </tr>\n",
       "    <tr>\n",
       "      <th>Iris-versicolor</th>\n",
       "      <td>5.925000</td>\n",
       "      <td>2.781250</td>\n",
       "    </tr>\n",
       "    <tr>\n",
       "      <th>Iris-virginica</th>\n",
       "      <td>6.616667</td>\n",
       "      <td>2.967347</td>\n",
       "    </tr>\n",
       "  </tbody>\n",
       "</table>\n",
       "</div>"
      ],
      "text/plain": [
       "                       SL        SW\n",
       "Classification                     \n",
       "Iris-setosa      5.008511  3.408511\n",
       "Iris-versicolor  5.925000  2.781250\n",
       "Iris-virginica   6.616667  2.967347"
      ]
     },
     "execution_count": 12,
     "metadata": {},
     "output_type": "execute_result"
    }
   ],
   "source": [
    "IR_mean = ir.groupby('Classification')['SL','SW'].mean()\n",
    "IR_mean"
   ]
  },
  {
   "cell_type": "code",
   "execution_count": 13,
   "id": "6951e061",
   "metadata": {},
   "outputs": [
    {
     "data": {
      "text/plain": [
       "Classification\n",
       "Iris-setosa        1.50\n",
       "Iris-versicolor    4.35\n",
       "Iris-virginica     5.55\n",
       "Name: PL, dtype: float64"
      ]
     },
     "execution_count": 13,
     "metadata": {},
     "output_type": "execute_result"
    }
   ],
   "source": [
    "PL_median = ir.groupby('Classification')['PL'].median()\n",
    "PL_median"
   ]
  },
  {
   "cell_type": "code",
   "execution_count": 14,
   "id": "78924758",
   "metadata": {},
   "outputs": [],
   "source": [
    "ir['SL'] = ir['SL'].fillna(ir.groupby('Classification')['SL'].transform('mean'))\n",
    "\n",
    "ir['SW'] = ir['SW'].fillna(ir.groupby('Classification')['SW'].transform('mean'))\n",
    "\n",
    "ir['PL'] = ir['PL'].fillna(ir.groupby('Classification')['PL'].transform('median'))"
   ]
  },
  {
   "cell_type": "code",
   "execution_count": 15,
   "id": "8955a393",
   "metadata": {},
   "outputs": [
    {
     "data": {
      "text/plain": [
       "SL                0\n",
       "SW                0\n",
       "PL                0\n",
       "PW                0\n",
       "Classification    0\n",
       "dtype: int64"
      ]
     },
     "execution_count": 15,
     "metadata": {},
     "output_type": "execute_result"
    }
   ],
   "source": [
    "ir.isna().sum()    # checking again the null values"
   ]
  },
  {
   "cell_type": "markdown",
   "id": "0567c13e",
   "metadata": {},
   "source": [
    "### Remarks:\n",
    "    we have filled the missing values in SW,SL,PL Columns. Now we have to check for any outliers."
   ]
  },
  {
   "cell_type": "markdown",
   "id": "1e494a91",
   "metadata": {},
   "source": [
    "### Checking for outliers"
   ]
  },
  {
   "cell_type": "code",
   "execution_count": 16,
   "id": "a42ce4fc",
   "metadata": {},
   "outputs": [
    {
     "data": {
      "image/png": "[encoded data removed]",
      "text/plain": [
       "<Figure size 432x288 with 1 Axes>"
      ]
     },
     "metadata": {
      "needs_background": "light"
     },
     "output_type": "display_data"
    }
   ],
   "source": [
    "plt.boxplot(ir['SW'])\n",
    "plt.title('Box plot of SW')\n",
    "plt.show()"
   ]
  },
  {
   "cell_type": "code",
   "execution_count": 17,
   "id": "1d3009df",
   "metadata": {},
   "outputs": [
    {
     "name": "stdout",
     "output_type": "stream",
     "text": [
      "The Q1 value: 2.8\n",
      "The Q2 value: 3.0\n",
      "The Q3 value: 3.3\n",
      "The values below 2.05 and above 4.05 are outliers.\n"
     ]
    }
   ],
   "source": [
    "Q1=np.percentile(ir['SW'],25,interpolation='midpoint')\n",
    "Q2=np.percentile(ir['SW'],50,interpolation='midpoint')\n",
    "Q3=np.percentile(ir['SW'],75,interpolation='midpoint')\n",
    "\n",
    "print('The Q1 value:',Q1)\n",
    "print('The Q2 value:',Q2)\n",
    "print('The Q3 value:',Q3)\n",
    "\n",
    "IQR=Q3-Q1\n",
    "low_lim=Q1-1.5*IQR\n",
    "up_lim=Q3+1.5*IQR\n",
    "\n",
    "print('The values below',low_lim,'and above',up_lim,'are outliers.')"
   ]
  },
  {
   "cell_type": "code",
   "execution_count": 18,
   "id": "16a9a788",
   "metadata": {},
   "outputs": [
    {
     "name": "stdout",
     "output_type": "stream",
     "text": [
      "There are 4 outliers in SW feature\n",
      "Outliers are: [4.4, 4.1, 4.2, 2.0]\n"
     ]
    }
   ],
   "source": [
    "outlier=[]\n",
    "for x in ir[\"SW\"]:\n",
    "    if x > up_lim or x < low_lim:\n",
    "        outlier.append(x)\n",
    "\n",
    "print('There are',len(outlier),'outliers in SW feature')\n",
    "print('Outliers are:',outlier)"
   ]
  },
  {
   "cell_type": "code",
   "execution_count": 19,
   "id": "d958bc36",
   "metadata": {},
   "outputs": [
    {
     "name": "stdout",
     "output_type": "stream",
     "text": [
      "The index values of the outliers which are above upper limit: Int64Index([15, 32, 33], dtype='int64') \n",
      "\n",
      "The Index values of the outliers which are below lower limit: Int64Index([60], dtype='int64')\n"
     ]
    }
   ],
   "source": [
    "ind1,ind2=ir['SW'] > up_lim,ir['SW'] < low_lim\n",
    "i1=ir.loc[ind1].index\n",
    "i2=ir.loc[ind2].index\n",
    "print('The index values of the outliers which are above upper limit:',i1,'\\n')\n",
    "print('The Index values of the outliers which are below lower limit:',i2)"
   ]
  },
  {
   "cell_type": "code",
   "execution_count": 20,
   "id": "d45a3271",
   "metadata": {},
   "outputs": [],
   "source": [
    "ir.drop([15, 32, 33,60],inplace=True)"
   ]
  },
  {
   "cell_type": "code",
   "execution_count": 21,
   "id": "d2a3b435",
   "metadata": {},
   "outputs": [
    {
     "data": {
      "image/png": "[encoded data removed]",
      "text/plain": [
       "<Figure size 432x288 with 1 Axes>"
      ]
     },
     "metadata": {
      "needs_background": "light"
     },
     "output_type": "display_data"
    }
   ],
   "source": [
    "plt.boxplot(ir['SW'])\n",
    "plt.title('Box plot of SW')\n",
    "plt.show()"
   ]
  },
  {
   "cell_type": "code",
   "execution_count": 22,
   "id": "d76e8bb7",
   "metadata": {},
   "outputs": [
    {
     "data": {
      "image/png": "[encoded data removed]",
      "text/plain": [
       "<Figure size 432x288 with 1 Axes>"
      ]
     },
     "metadata": {
      "needs_background": "light"
     },
     "output_type": "display_data"
    }
   ],
   "source": [
    "plt.boxplot(ir['SL'])\n",
    "plt.title('Box plot of SL')\n",
    "plt.show()"
   ]
  },
  {
   "cell_type": "code",
   "execution_count": 23,
   "id": "fbd347d7",
   "metadata": {},
   "outputs": [
    {
     "data": {
      "image/png": "[encoded data removed]",
      "text/plain": [
       "<Figure size 432x288 with 1 Axes>"
      ]
     },
     "metadata": {
      "needs_background": "light"
     },
     "output_type": "display_data"
    }
   ],
   "source": [
    "plt.boxplot(ir['PW'])\n",
    "plt.title('Box plot of PW')\n",
    "plt.show()"
   ]
  },
  {
   "cell_type": "code",
   "execution_count": 24,
   "id": "92dbc96e",
   "metadata": {},
   "outputs": [
    {
     "data": {
      "image/png": "[encoded data removed]",
      "text/plain": [
       "<Figure size 432x288 with 1 Axes>"
      ]
     },
     "metadata": {
      "needs_background": "light"
     },
     "output_type": "display_data"
    }
   ],
   "source": [
    "plt.boxplot(ir['PL'])\n",
    "plt.title('Box plot of PL')\n",
    "plt.show()"
   ]
  },
  {
   "cell_type": "markdown",
   "id": "c9cf5c2f",
   "metadata": {},
   "source": [
    "### Remarks :\n",
    "    There are outliers in 'SW' of iris dataset which we removed and other columns contain no outliers.\n",
    "    Now, we can model the preprocessed data."
   ]
  },
  {
   "cell_type": "code",
   "execution_count": 25,
   "id": "a9549b5c",
   "metadata": {},
   "outputs": [
    {
     "data": {
      "text/html": [
       "<div>\n",
       "<style scoped>\n",
       "    .dataframe tbody tr th:only-of-type {\n",
       "        vertical-align: middle;\n",
       "    }\n",
       "\n",
       "    .dataframe tbody tr th {\n",
       "        vertical-align: top;\n",
       "    }\n",
       "\n",
       "    .dataframe thead th {\n",
       "        text-align: right;\n",
       "    }\n",
       "</style>\n",
       "<table border=\"1\" class=\"dataframe\">\n",
       "  <thead>\n",
       "    <tr style=\"text-align: right;\">\n",
       "      <th></th>\n",
       "      <th>SL</th>\n",
       "      <th>SW</th>\n",
       "      <th>PL</th>\n",
       "      <th>PW</th>\n",
       "      <th>Classification</th>\n",
       "    </tr>\n",
       "  </thead>\n",
       "  <tbody>\n",
       "    <tr>\n",
       "      <th>0</th>\n",
       "      <td>5.100000</td>\n",
       "      <td>3.5</td>\n",
       "      <td>1.40</td>\n",
       "      <td>0.2</td>\n",
       "      <td>0</td>\n",
       "    </tr>\n",
       "    <tr>\n",
       "      <th>1</th>\n",
       "      <td>4.900000</td>\n",
       "      <td>3.0</td>\n",
       "      <td>1.40</td>\n",
       "      <td>0.2</td>\n",
       "      <td>0</td>\n",
       "    </tr>\n",
       "    <tr>\n",
       "      <th>2</th>\n",
       "      <td>5.008511</td>\n",
       "      <td>3.2</td>\n",
       "      <td>1.30</td>\n",
       "      <td>0.2</td>\n",
       "      <td>0</td>\n",
       "    </tr>\n",
       "    <tr>\n",
       "      <th>3</th>\n",
       "      <td>4.600000</td>\n",
       "      <td>3.1</td>\n",
       "      <td>1.50</td>\n",
       "      <td>0.2</td>\n",
       "      <td>0</td>\n",
       "    </tr>\n",
       "    <tr>\n",
       "      <th>4</th>\n",
       "      <td>5.000000</td>\n",
       "      <td>3.6</td>\n",
       "      <td>1.40</td>\n",
       "      <td>0.2</td>\n",
       "      <td>0</td>\n",
       "    </tr>\n",
       "    <tr>\n",
       "      <th>...</th>\n",
       "      <td>...</td>\n",
       "      <td>...</td>\n",
       "      <td>...</td>\n",
       "      <td>...</td>\n",
       "      <td>...</td>\n",
       "    </tr>\n",
       "    <tr>\n",
       "      <th>145</th>\n",
       "      <td>6.700000</td>\n",
       "      <td>3.0</td>\n",
       "      <td>5.20</td>\n",
       "      <td>2.3</td>\n",
       "      <td>2</td>\n",
       "    </tr>\n",
       "    <tr>\n",
       "      <th>146</th>\n",
       "      <td>6.300000</td>\n",
       "      <td>2.5</td>\n",
       "      <td>5.00</td>\n",
       "      <td>1.9</td>\n",
       "      <td>2</td>\n",
       "    </tr>\n",
       "    <tr>\n",
       "      <th>147</th>\n",
       "      <td>6.500000</td>\n",
       "      <td>3.0</td>\n",
       "      <td>5.55</td>\n",
       "      <td>2.0</td>\n",
       "      <td>2</td>\n",
       "    </tr>\n",
       "    <tr>\n",
       "      <th>148</th>\n",
       "      <td>6.200000</td>\n",
       "      <td>3.4</td>\n",
       "      <td>5.40</td>\n",
       "      <td>2.3</td>\n",
       "      <td>2</td>\n",
       "    </tr>\n",
       "    <tr>\n",
       "      <th>149</th>\n",
       "      <td>5.900000</td>\n",
       "      <td>3.0</td>\n",
       "      <td>5.10</td>\n",
       "      <td>1.8</td>\n",
       "      <td>2</td>\n",
       "    </tr>\n",
       "  </tbody>\n",
       "</table>\n",
       "<p>146 rows × 5 columns</p>\n",
       "</div>"
      ],
      "text/plain": [
       "           SL   SW    PL   PW  Classification\n",
       "0    5.100000  3.5  1.40  0.2               0\n",
       "1    4.900000  3.0  1.40  0.2               0\n",
       "2    5.008511  3.2  1.30  0.2               0\n",
       "3    4.600000  3.1  1.50  0.2               0\n",
       "4    5.000000  3.6  1.40  0.2               0\n",
       "..        ...  ...   ...  ...             ...\n",
       "145  6.700000  3.0  5.20  2.3               2\n",
       "146  6.300000  2.5  5.00  1.9               2\n",
       "147  6.500000  3.0  5.55  2.0               2\n",
       "148  6.200000  3.4  5.40  2.3               2\n",
       "149  5.900000  3.0  5.10  1.8               2\n",
       "\n",
       "[146 rows x 5 columns]"
      ]
     },
     "execution_count": 25,
     "metadata": {},
     "output_type": "execute_result"
    }
   ],
   "source": [
    "# label encoding categorical variables\n",
    "from sklearn.preprocessing import LabelEncoder\n",
    "le=LabelEncoder()\n",
    "ir['Classification']=le.fit_transform(ir['Classification'])\n",
    "ir"
   ]
  },
  {
   "cell_type": "markdown",
   "id": "4e1b727b",
   "metadata": {},
   "source": [
    "now the categorical data in column Classification is converted to numerical."
   ]
  },
  {
   "cell_type": "markdown",
   "id": "d72f6dd8",
   "metadata": {},
   "source": [
    "### 3. Find out which classification model gives the best result to predict iris species.(Also do random forest algorithm)."
   ]
  },
  {
   "cell_type": "code",
   "execution_count": 26,
   "id": "b77c9fca",
   "metadata": {},
   "outputs": [],
   "source": [
    "# seperating features and target(ie,Classification)\n",
    "x= ir.drop(['Classification'],axis=1)\n",
    "y= ir['Classification']"
   ]
  },
  {
   "cell_type": "code",
   "execution_count": 27,
   "id": "444dce31",
   "metadata": {},
   "outputs": [
    {
     "data": {
      "text/html": [
       "<div>\n",
       "<style scoped>\n",
       "    .dataframe tbody tr th:only-of-type {\n",
       "        vertical-align: middle;\n",
       "    }\n",
       "\n",
       "    .dataframe tbody tr th {\n",
       "        vertical-align: top;\n",
       "    }\n",
       "\n",
       "    .dataframe thead th {\n",
       "        text-align: right;\n",
       "    }\n",
       "</style>\n",
       "<table border=\"1\" class=\"dataframe\">\n",
       "  <thead>\n",
       "    <tr style=\"text-align: right;\">\n",
       "      <th></th>\n",
       "      <th>SL</th>\n",
       "      <th>SW</th>\n",
       "      <th>PL</th>\n",
       "      <th>PW</th>\n",
       "    </tr>\n",
       "  </thead>\n",
       "  <tbody>\n",
       "    <tr>\n",
       "      <th>0</th>\n",
       "      <td>5.100000</td>\n",
       "      <td>3.5</td>\n",
       "      <td>1.4</td>\n",
       "      <td>0.2</td>\n",
       "    </tr>\n",
       "    <tr>\n",
       "      <th>1</th>\n",
       "      <td>4.900000</td>\n",
       "      <td>3.0</td>\n",
       "      <td>1.4</td>\n",
       "      <td>0.2</td>\n",
       "    </tr>\n",
       "    <tr>\n",
       "      <th>2</th>\n",
       "      <td>5.008511</td>\n",
       "      <td>3.2</td>\n",
       "      <td>1.3</td>\n",
       "      <td>0.2</td>\n",
       "    </tr>\n",
       "    <tr>\n",
       "      <th>3</th>\n",
       "      <td>4.600000</td>\n",
       "      <td>3.1</td>\n",
       "      <td>1.5</td>\n",
       "      <td>0.2</td>\n",
       "    </tr>\n",
       "    <tr>\n",
       "      <th>4</th>\n",
       "      <td>5.000000</td>\n",
       "      <td>3.6</td>\n",
       "      <td>1.4</td>\n",
       "      <td>0.2</td>\n",
       "    </tr>\n",
       "  </tbody>\n",
       "</table>\n",
       "</div>"
      ],
      "text/plain": [
       "         SL   SW   PL   PW\n",
       "0  5.100000  3.5  1.4  0.2\n",
       "1  4.900000  3.0  1.4  0.2\n",
       "2  5.008511  3.2  1.3  0.2\n",
       "3  4.600000  3.1  1.5  0.2\n",
       "4  5.000000  3.6  1.4  0.2"
      ]
     },
     "execution_count": 27,
     "metadata": {},
     "output_type": "execute_result"
    }
   ],
   "source": [
    "x.head()"
   ]
  },
  {
   "cell_type": "code",
   "execution_count": 28,
   "id": "c483b9be",
   "metadata": {},
   "outputs": [
    {
     "data": {
      "text/plain": [
       "0    0\n",
       "1    0\n",
       "2    0\n",
       "3    0\n",
       "4    0\n",
       "Name: Classification, dtype: int32"
      ]
     },
     "execution_count": 28,
     "metadata": {},
     "output_type": "execute_result"
    }
   ],
   "source": [
    "y.head()"
   ]
  },
  {
   "cell_type": "code",
   "execution_count": 29,
   "id": "5a8d81df",
   "metadata": {},
   "outputs": [],
   "source": [
    "# splitting dataset into train and test\n",
    "from sklearn.model_selection import train_test_split\n",
    "x_train,x_test,y_train,y_test = train_test_split(x,y,random_state=42,test_size=0.2)"
   ]
  },
  {
   "cell_type": "code",
   "execution_count": 30,
   "id": "49baa78e",
   "metadata": {},
   "outputs": [
    {
     "name": "stdout",
     "output_type": "stream",
     "text": [
      "(146, 4)\n"
     ]
    }
   ],
   "source": [
    "print(x.shape)"
   ]
  },
  {
   "cell_type": "code",
   "execution_count": 31,
   "id": "e95785f6",
   "metadata": {},
   "outputs": [
    {
     "name": "stdout",
     "output_type": "stream",
     "text": [
      "(146,)\n"
     ]
    }
   ],
   "source": [
    "print(y.shape)"
   ]
  },
  {
   "cell_type": "markdown",
   "id": "4acbd4d3",
   "metadata": {},
   "source": [
    "We are going to build different models on the data and then we can evaluate their performance based on accuracy score, precision score, recall score, f1 score. "
   ]
  },
  {
   "cell_type": "markdown",
   "id": "de2d4802",
   "metadata": {},
   "source": [
    "## (a) Logistic Regression"
   ]
  },
  {
   "cell_type": "code",
   "execution_count": 32,
   "id": "1af41ec5",
   "metadata": {},
   "outputs": [],
   "source": [
    "from sklearn.linear_model import LogisticRegression\n",
    "\n",
    "loR_model = LogisticRegression()\n",
    "loR_model.fit(x_train,y_train)\n",
    "y_pred = loR_model.predict(x_test)"
   ]
  },
  {
   "cell_type": "code",
   "execution_count": 33,
   "id": "79ebf8bb",
   "metadata": {},
   "outputs": [],
   "source": [
    "from sklearn.metrics import confusion_matrix, accuracy_score, precision_score, recall_score, f1_score"
   ]
  },
  {
   "cell_type": "code",
   "execution_count": 34,
   "id": "f1a1e31f",
   "metadata": {},
   "outputs": [
    {
     "name": "stdout",
     "output_type": "stream",
     "text": [
      "Accuracy is: 0.9333333333333333\n",
      "precision is: 0.9249999999999999\n",
      "Recall is: 0.9249999999999999\n",
      "f1 score is: 0.9249999999999999\n"
     ]
    }
   ],
   "source": [
    "print(\"Accuracy is:\" , accuracy_score(y_test,y_pred))\n",
    "print(\"precision is:\" , precision_score(y_test,y_pred,average='macro'))\n",
    "print(\"Recall is:\" , recall_score(y_test,y_pred, average='macro'))\n",
    "print(\"f1 score is:\" , f1_score(y_test,y_pred, average='macro'))"
   ]
  },
  {
   "cell_type": "markdown",
   "id": "9d6196c6",
   "metadata": {},
   "source": [
    "we can evaluate the performance of this classifier by confusion_matrix (2*2 matrix). Each row of it denotes the actual class while each column is the predicted class."
   ]
  },
  {
   "cell_type": "code",
   "execution_count": 35,
   "id": "13509437",
   "metadata": {},
   "outputs": [
    {
     "data": {
      "text/plain": [
       "array([[12,  0,  0],\n",
       "       [ 0,  7,  1],\n",
       "       [ 0,  1,  9]], dtype=int64)"
      ]
     },
     "execution_count": 35,
     "metadata": {},
     "output_type": "execute_result"
    }
   ],
   "source": [
    "#comparing y_test and y_pred\n",
    "cm = confusion_matrix(y_test,y_pred)\n",
    "cm"
   ]
  },
  {
   "cell_type": "markdown",
   "id": "9e7d96ab",
   "metadata": {},
   "source": [
    "The given dataset contains 3 classes in the column Classifcation, hence we get a 3*3 matrix."
   ]
  },
  {
   "cell_type": "code",
   "execution_count": 36,
   "id": "a12e6681",
   "metadata": {},
   "outputs": [
    {
     "data": {
      "text/html": [
       "<div>\n",
       "<style scoped>\n",
       "    .dataframe tbody tr th:only-of-type {\n",
       "        vertical-align: middle;\n",
       "    }\n",
       "\n",
       "    .dataframe tbody tr th {\n",
       "        vertical-align: top;\n",
       "    }\n",
       "\n",
       "    .dataframe thead th {\n",
       "        text-align: right;\n",
       "    }\n",
       "</style>\n",
       "<table border=\"1\" class=\"dataframe\">\n",
       "  <thead>\n",
       "    <tr style=\"text-align: right;\">\n",
       "      <th></th>\n",
       "      <th>Setosa</th>\n",
       "      <th>Versicolor</th>\n",
       "      <th>Virginica</th>\n",
       "    </tr>\n",
       "  </thead>\n",
       "  <tbody>\n",
       "    <tr>\n",
       "      <th>Setosa</th>\n",
       "      <td>12</td>\n",
       "      <td>0</td>\n",
       "      <td>0</td>\n",
       "    </tr>\n",
       "    <tr>\n",
       "      <th>Versicolor</th>\n",
       "      <td>0</td>\n",
       "      <td>7</td>\n",
       "      <td>1</td>\n",
       "    </tr>\n",
       "    <tr>\n",
       "      <th>Virginica</th>\n",
       "      <td>0</td>\n",
       "      <td>1</td>\n",
       "      <td>9</td>\n",
       "    </tr>\n",
       "  </tbody>\n",
       "</table>\n",
       "</div>"
      ],
      "text/plain": [
       "            Setosa  Versicolor  Virginica\n",
       "Setosa          12           0          0\n",
       "Versicolor       0           7          1\n",
       "Virginica        0           1          9"
      ]
     },
     "execution_count": 36,
     "metadata": {},
     "output_type": "execute_result"
    }
   ],
   "source": [
    "# Creating a dataframe for Confusion matrix\n",
    "cm_df = pd.DataFrame(cm,index=['Setosa','Versicolor','Virginica'], columns=['Setosa','Versicolor','Virginica'])\n",
    "cm_df"
   ]
  },
  {
   "cell_type": "code",
   "execution_count": 37,
   "id": "18af74ca",
   "metadata": {},
   "outputs": [],
   "source": [
    "#True positive(TP), False negative (FN), False positive(FP), True negative(TN)  values of iris classes from confusion matrix can be found out;\n",
    "\n",
    "#iris_Setosa: TP = 10, FN =  0, FP =  0, TN = 19\n",
    "\n",
    "#iris_versicolor :   TP = 9, FN = 0, FP = 0, TN = 21\n",
    "\n",
    "#iris_virginica : TP = 11, FN = 0, FP = 0, TN = 19"
   ]
  },
  {
   "cell_type": "markdown",
   "id": "64f38b14",
   "metadata": {},
   "source": [
    "#### Findings: \n",
    "Logistic regression model has accuracy = 93 % and there are two misclassifiers in this model."
   ]
  },
  {
   "cell_type": "markdown",
   "id": "da75523e",
   "metadata": {},
   "source": [
    "## (b) K- Nearest Neighbors (K-NN)"
   ]
  },
  {
   "cell_type": "code",
   "execution_count": 38,
   "id": "8c48320d",
   "metadata": {},
   "outputs": [],
   "source": [
    "\n",
    "from sklearn.neighbors import KNeighborsClassifier\n",
    "\n",
    "acc_values = []\n",
    "neighbors = np.arange(3,15)\n",
    "for k in neighbors:\n",
    "    Classifier = KNeighborsClassifier(n_neighbors=k, metric='minkowski')\n",
    "    Classifier.fit(x_train, y_train)\n",
    "    y_pred = Classifier.predict(x_test)\n",
    "    acc = accuracy_score(y_test, y_pred)\n",
    "    acc_values.append(acc)\n",
    "    "
   ]
  },
  {
   "cell_type": "code",
   "execution_count": 39,
   "id": "845eb7af",
   "metadata": {},
   "outputs": [
    {
     "data": {
      "text/plain": [
       "[0.9666666666666667,\n",
       " 0.9333333333333333,\n",
       " 0.9666666666666667,\n",
       " 1.0,\n",
       " 1.0,\n",
       " 1.0,\n",
       " 1.0,\n",
       " 1.0,\n",
       " 1.0,\n",
       " 0.9666666666666667,\n",
       " 1.0,\n",
       " 0.9666666666666667]"
      ]
     },
     "execution_count": 39,
     "metadata": {},
     "output_type": "execute_result"
    }
   ],
   "source": [
    "#checking accuracy\n",
    "acc_values"
   ]
  },
  {
   "cell_type": "code",
   "execution_count": 40,
   "id": "16928d44",
   "metadata": {},
   "outputs": [
    {
     "data": {
      "image/png": "[encoded data removed]",
      "text/plain": [
       "<Figure size 432x288 with 1 Axes>"
      ]
     },
     "metadata": {
      "needs_background": "light"
     },
     "output_type": "display_data"
    }
   ],
   "source": [
    "plt.plot(neighbors, acc_values, 'o-')\n",
    "plt.xlabel('K - values')\n",
    "plt.ylabel('Accuracy values')\n",
    "plt.show() "
   ]
  },
  {
   "cell_type": "code",
   "execution_count": 41,
   "id": "9e6724c3",
   "metadata": {},
   "outputs": [],
   "source": [
    "#### Remarks: Accuracy is high for K values; 6,7,8,9,10,11,13. so we can use any of them to build the model."
   ]
  },
  {
   "cell_type": "code",
   "execution_count": 42,
   "id": "d928a248",
   "metadata": {},
   "outputs": [],
   "source": [
    "Classifier = KNeighborsClassifier(n_neighbors=6, metric='minkowski')\n",
    "Classifier.fit(x_train, y_train)\n",
    "y_pred = Classifier.predict(x_test)"
   ]
  },
  {
   "cell_type": "code",
   "execution_count": 43,
   "id": "01fa123a",
   "metadata": {},
   "outputs": [
    {
     "name": "stdout",
     "output_type": "stream",
     "text": [
      "Accuracy score is: 1.0\n",
      "Precision score is: 1.0\n",
      "Recall score is: 1.0\n",
      "f1 score is: 1.0\n"
     ]
    }
   ],
   "source": [
    "print('Accuracy score is:',accuracy_score(y_test,y_pred))\n",
    "print('Precision score is:',precision_score(y_test,y_pred,average='macro'))\n",
    "print('Recall score is:',recall_score(y_test,y_pred,average='macro'))\n",
    "print('f1 score is:',f1_score(y_test,y_pred,average='macro'))"
   ]
  },
  {
   "cell_type": "code",
   "execution_count": 44,
   "id": "8b57515b",
   "metadata": {},
   "outputs": [
    {
     "data": {
      "text/plain": [
       "array([[12,  0,  0],\n",
       "       [ 0,  8,  0],\n",
       "       [ 0,  0, 10]], dtype=int64)"
      ]
     },
     "execution_count": 44,
     "metadata": {},
     "output_type": "execute_result"
    }
   ],
   "source": [
    "confusion_matrix(y_test,y_pred)"
   ]
  },
  {
   "cell_type": "markdown",
   "id": "1cf7e188",
   "metadata": {},
   "source": [
    "### findings:\n",
    "    KNN model has an accuracy score = 1.0 and with no misclassifiers in this model."
   ]
  },
  {
   "cell_type": "markdown",
   "id": "201bbb6e",
   "metadata": {},
   "source": [
    "## (c) Decision tree classifier"
   ]
  },
  {
   "cell_type": "code",
   "execution_count": 45,
   "id": "168f5c22",
   "metadata": {},
   "outputs": [
    {
     "name": "stdout",
     "output_type": "stream",
     "text": [
      "Accuracy on decision tree model is:  0.9333333333333333\n",
      "Precision score is: 0.9249999999999999\n",
      "Recall score is: 0.9249999999999999\n",
      "f1 score is: 0.9249999999999999\n"
     ]
    }
   ],
   "source": [
    "\n",
    "from sklearn.tree import DecisionTreeClassifier\n",
    "\n",
    "dt_model = DecisionTreeClassifier()\n",
    "dt_model.fit(x_train, y_train)\n",
    "y_pred = dt_model.predict(x_test)\n",
    "\n",
    "print('Accuracy on decision tree model is: ', accuracy_score(y_test, y_pred))\n",
    "print('Precision score is:',precision_score(y_test,y_pred,average='macro'))\n",
    "print('Recall score is:',recall_score(y_test,y_pred,average='macro'))\n",
    "print('f1 score is:',f1_score(y_test,y_pred,average='macro'))"
   ]
  },
  {
   "cell_type": "code",
   "execution_count": 46,
   "id": "c264743e",
   "metadata": {},
   "outputs": [
    {
     "data": {
      "text/plain": [
       "0    12\n",
       "2    10\n",
       "1     8\n",
       "Name: Classification, dtype: int64"
      ]
     },
     "execution_count": 46,
     "metadata": {},
     "output_type": "execute_result"
    }
   ],
   "source": [
    "y_test.value_counts()"
   ]
  },
  {
   "cell_type": "code",
   "execution_count": 47,
   "id": "ca058567",
   "metadata": {},
   "outputs": [
    {
     "data": {
      "text/plain": [
       "array([[12,  0,  0],\n",
       "       [ 0,  7,  1],\n",
       "       [ 0,  1,  9]], dtype=int64)"
      ]
     },
     "execution_count": 47,
     "metadata": {},
     "output_type": "execute_result"
    }
   ],
   "source": [
    "confusion_matrix(y_test,y_pred)"
   ]
  },
  {
   "cell_type": "markdown",
   "id": "18a44bf8",
   "metadata": {},
   "source": [
    "### Findings: \n",
    "    Decision tree model has accuracy = 93 % and there are two misclassifications in this model."
   ]
  },
  {
   "cell_type": "markdown",
   "id": "c6550b51",
   "metadata": {},
   "source": [
    "## (d) Support vector machine (SVM)"
   ]
  },
  {
   "cell_type": "code",
   "execution_count": 48,
   "id": "e9c69e29",
   "metadata": {},
   "outputs": [
    {
     "name": "stdout",
     "output_type": "stream",
     "text": [
      "Accuracy on linear svm is:  0.9666666666666667\n",
      "Precision score is: 0.9696969696969697\n",
      "Recall score is: 0.9583333333333334\n",
      "f1 score is: 0.9619047619047619\n"
     ]
    }
   ],
   "source": [
    "#by linear svm \n",
    "from sklearn.svm import SVC\n",
    "\n",
    "svm_linear = SVC(kernel ='linear')\n",
    "svm_linear.fit(x_train, y_train)\n",
    "y_pred = svm_linear.predict(x_test)\n",
    "\n",
    "print('Accuracy on linear svm is: ', accuracy_score(y_test, y_pred))\n",
    "print('Precision score is:',precision_score(y_test,y_pred,average='macro'))\n",
    "print('Recall score is:',recall_score(y_test,y_pred,average='macro'))\n",
    "print('f1 score is:',f1_score(y_test,y_pred,average='macro'))"
   ]
  },
  {
   "cell_type": "code",
   "execution_count": 49,
   "id": "96369b6a",
   "metadata": {},
   "outputs": [
    {
     "data": {
      "text/plain": [
       "array([[12,  0,  0],\n",
       "       [ 0,  7,  1],\n",
       "       [ 0,  0, 10]], dtype=int64)"
      ]
     },
     "execution_count": 49,
     "metadata": {},
     "output_type": "execute_result"
    }
   ],
   "source": [
    "confusion_matrix(y_test,y_pred)"
   ]
  },
  {
   "cell_type": "markdown",
   "id": "3b6d82c4",
   "metadata": {},
   "source": [
    "### Findings:\n",
    "    linear svm model has an accuracy score = 96 % and there is one misclassifiers in this model."
   ]
  },
  {
   "cell_type": "code",
   "execution_count": 50,
   "id": "54072c49",
   "metadata": {},
   "outputs": [
    {
     "name": "stdout",
     "output_type": "stream",
     "text": [
      "Accuracy is:  0.9666666666666667\n",
      "Precision score is: 0.9696969696969697\n",
      "Recall score is: 0.9583333333333334\n",
      "f1 score is: 0.9619047619047619\n"
     ]
    }
   ],
   "source": [
    "# polynomial svm\n",
    "\n",
    "svm_poly = SVC(kernel= 'poly')\n",
    "svm_poly.fit(x_train, y_train)\n",
    "y_pred = svm_poly.predict(x_test)\n",
    "\n",
    "print('Accuracy is: ', accuracy_score(y_test, y_pred))\n",
    "print('Precision score is:',precision_score(y_test,y_pred,average='macro'))\n",
    "print('Recall score is:',recall_score(y_test,y_pred,average='macro'))\n",
    "print('f1 score is:',f1_score(y_test,y_pred,average='macro'))"
   ]
  },
  {
   "cell_type": "code",
   "execution_count": 51,
   "id": "70a4c47d",
   "metadata": {},
   "outputs": [
    {
     "data": {
      "text/plain": [
       "array([[12,  0,  0],\n",
       "       [ 0,  7,  1],\n",
       "       [ 0,  0, 10]], dtype=int64)"
      ]
     },
     "execution_count": 51,
     "metadata": {},
     "output_type": "execute_result"
    }
   ],
   "source": [
    "confusion_matrix(y_test,y_pred)"
   ]
  },
  {
   "cell_type": "markdown",
   "id": "abb48311",
   "metadata": {},
   "source": [
    "### Findings: \n",
    "There is one misclassification in this model with accuracy 96 %."
   ]
  },
  {
   "cell_type": "code",
   "execution_count": 52,
   "id": "0e69750c",
   "metadata": {},
   "outputs": [
    {
     "name": "stdout",
     "output_type": "stream",
     "text": [
      "Accuracy is:  0.9666666666666667\n",
      "Precision score is: 0.9629629629629629\n",
      "Recall score is: 0.9666666666666667\n",
      "f1 score is: 0.9628482972136223\n"
     ]
    }
   ],
   "source": [
    "# radial svm\n",
    "\n",
    "svm_rad = SVC(kernel='rbf')\n",
    "svm_rad.fit(x_train, y_train)\n",
    "y_pred = svm_rad.predict(x_test)\n",
    "\n",
    "print('Accuracy is: ', accuracy_score(y_test, y_pred))\n",
    "print('Precision score is:',precision_score(y_test,y_pred,average='macro'))\n",
    "print('Recall score is:',recall_score(y_test,y_pred,average='macro'))\n",
    "print('f1 score is:',f1_score(y_test,y_pred,average='macro'))"
   ]
  },
  {
   "cell_type": "code",
   "execution_count": 53,
   "id": "dfcc952f",
   "metadata": {},
   "outputs": [
    {
     "data": {
      "text/plain": [
       "array([[12,  0,  0],\n",
       "       [ 0,  8,  0],\n",
       "       [ 0,  1,  9]], dtype=int64)"
      ]
     },
     "execution_count": 53,
     "metadata": {},
     "output_type": "execute_result"
    }
   ],
   "source": [
    "confusion_matrix(y_test,y_pred)"
   ]
  },
  {
   "cell_type": "markdown",
   "id": "13c33f04",
   "metadata": {},
   "source": [
    "### findings: \n",
    "Radial SVM model with accuracy = 96 % and there is one misclassifier  in this model. "
   ]
  },
  {
   "cell_type": "markdown",
   "id": "809b965f",
   "metadata": {},
   "source": [
    "## (e) Random forest classifier"
   ]
  },
  {
   "cell_type": "code",
   "execution_count": 54,
   "id": "d1cb463a",
   "metadata": {},
   "outputs": [],
   "source": [
    "from sklearn.ensemble import RandomForestClassifier\n",
    "\n",
    "rf=RandomForestClassifier()\n",
    "rf.fit(x_train,y_train)\n",
    "y_pred=rf.predict(x_test)"
   ]
  },
  {
   "cell_type": "code",
   "execution_count": 55,
   "id": "929e46bd",
   "metadata": {},
   "outputs": [
    {
     "name": "stdout",
     "output_type": "stream",
     "text": [
      "Accuracy is:  0.9333333333333333\n",
      "Precision is:  0.9333333333333333\n",
      "Recall is:  0.9333333333333333\n",
      "f1 score is:  0.9333333333333333\n"
     ]
    }
   ],
   "source": [
    "print(\"Accuracy is: \",accuracy_score(y_test,y_pred))\n",
    "print(\"Precision is: \", precision_score(y_test,y_pred, average='micro'))\n",
    "print(\"Recall is: \", recall_score(y_test,y_pred, average='micro'))\n",
    "print(\"f1 score is: \", f1_score(y_test,y_pred, average='micro'))"
   ]
  },
  {
   "cell_type": "code",
   "execution_count": 56,
   "id": "3077df5f",
   "metadata": {},
   "outputs": [
    {
     "data": {
      "text/plain": [
       "array([[12,  0,  0],\n",
       "       [ 0,  7,  1],\n",
       "       [ 0,  1,  9]], dtype=int64)"
      ]
     },
     "execution_count": 56,
     "metadata": {},
     "output_type": "execute_result"
    }
   ],
   "source": [
    "confusion_matrix(y_test,y_pred)"
   ]
  },
  {
   "cell_type": "markdown",
   "id": "f256c053",
   "metadata": {},
   "source": [
    "### findings:\n",
    "Random forest model having accuracy = 93 % and there is two misclassification in this model"
   ]
  },
  {
   "cell_type": "markdown",
   "id": "6f596198",
   "metadata": {},
   "source": [
    "### Feature importance"
   ]
  },
  {
   "cell_type": "code",
   "execution_count": 57,
   "id": "b9bbcdf0",
   "metadata": {},
   "outputs": [
    {
     "data": {
      "text/plain": [
       "PL    45.379224\n",
       "PW    43.161198\n",
       "SL     9.018910\n",
       "SW     2.440668\n",
       "dtype: float64"
      ]
     },
     "execution_count": 57,
     "metadata": {},
     "output_type": "execute_result"
    }
   ],
   "source": [
    "pd.Series(rf.feature_importances_,index=x.columns).sort_values(ascending=False)*100"
   ]
  },
  {
   "cell_type": "markdown",
   "id": "4276327b",
   "metadata": {},
   "source": [
    "from this we can see that the 'SW' have lower percentage which is less important feature. we can drop it if we want but model is still have 93% accuracy."
   ]
  },
  {
   "cell_type": "markdown",
   "id": "b50a3ffa",
   "metadata": {},
   "source": [
    "## Inference:"
   ]
  },
  {
   "cell_type": "markdown",
   "id": "3373f65d",
   "metadata": {},
   "source": [
    "#### By evaluating all these models, we can clearly see that KNN is having an accuracy score 1.0 which is our best model and can be used to predict iris species. "
   ]
  },
  {
   "cell_type": "markdown",
   "id": "79347c79",
   "metadata": {},
   "source": [
    "#### Sruthy B(DSA-B3)"
   ]
  }
 ],
 "metadata": {
  "kernelspec": {
   "display_name": "Python 3",
   "language": "python",
   "name": "python3"
  },
  "language_info": {
   "codemirror_mode": {
    "name": "ipython",
    "version": 3
   },
   "file_extension": ".py",
   "mimetype": "text/x-python",
   "name": "python",
   "nbconvert_exporter": "python",
   "pygments_lexer": "ipython3",
   "version": "3.8.8"
  }
 },
 "nbformat": 4,
 "nbformat_minor": 5
}
